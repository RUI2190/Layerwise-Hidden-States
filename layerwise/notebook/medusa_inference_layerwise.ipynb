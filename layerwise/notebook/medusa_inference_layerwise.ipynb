{
 "cells": [
  {
   "cell_type": "markdown",
   "metadata": {},
   "source": [
    "# Inference Example with Medusa\n",
    "\n",
    "In this Jupyter notebook, we're going to demonstrate how to perform inference using the Medusa model on an interesting story prompt. Let's get the ball rolling!"
   ]
  },
  {
   "cell_type": "code",
   "execution_count": 1,
   "metadata": {},
   "outputs": [
    {
     "name": "stderr",
     "output_type": "stream",
     "text": [
      "/workspace/laurel/opt/miniconda3-laurel/envs/medusa_fin/lib/python3.10/site-packages/tqdm/auto.py:21: TqdmWarning: IProgress not found. Please update jupyter and ipywidgets. See https://ipywidgets.readthedocs.io/en/stable/user_install.html\n",
      "  from .autonotebook import tqdm as notebook_tqdm\n",
      "/workspace/laurel/opt/miniconda3-laurel/envs/medusa_fin/lib/python3.10/site-packages/transformers/utils/generic.py:311: FutureWarning: `torch.utils._pytree._register_pytree_node` is deprecated. Please use `torch.utils._pytree.register_pytree_node` instead.\n",
      "  torch.utils._pytree._register_pytree_node(\n",
      "/workspace/laurel/opt/miniconda3-laurel/envs/medusa_fin/lib/python3.10/site-packages/transformers/utils/generic.py:311: FutureWarning: `torch.utils._pytree._register_pytree_node` is deprecated. Please use `torch.utils._pytree.register_pytree_node` instead.\n",
      "  torch.utils._pytree._register_pytree_node(\n"
     ]
    }
   ],
   "source": [
    "import os\n",
    "os.environ[\"TOKENIZERS_PARALLELISM\"] = \"false\"\n",
    "# os.environ[\"CUDA_VISIBLE_DEVICES\"] = \"3\" # define GPU id, remove if you want to use all GPUs available\n",
    "import torch\n",
    "from tqdm import tqdm\n",
    "import time\n",
    "from contextlib import contextmanager\n",
    "import numpy as np\n",
    "import pandas as pd\n",
    "from medusa.model.modeling_llama_kv import LlamaForCausalLM as KVLlamaForCausalLM\n",
    "from medusa.model.medusa_model import MedusaModel\n",
    "from medusa.model.kv_cache import *\n",
    "from medusa.model.utils import *\n",
    "from medusa.model.medusa_choices import *\n",
    "import transformers\n",
    "from huggingface_hub import hf_hub_download\n",
    "import torch.nn.functional as F"
   ]
  },
  {
   "cell_type": "markdown",
   "metadata": {},
   "source": [
    "## Medusa Forward Function\n",
    "\n",
    "We define the medusa_forward function that will be used for generating stories based on the provided prompts.\n"
   ]
  },
  {
   "cell_type": "code",
   "execution_count": 2,
   "metadata": {},
   "outputs": [],
   "source": [
    "activations = {}\n",
    "\n",
    "def capture_activation(layer_name):\n",
    "    def hook(module, input, output):\n",
    "        activations[layer_name] = output.detach().cpu()\n",
    "    return hook"
   ]
  },
  {
   "cell_type": "code",
   "execution_count": 3,
   "metadata": {},
   "outputs": [],
   "source": [
    "@contextmanager\n",
    "def timed(wall_times, key):\n",
    "    start = time.time()\n",
    "    torch.cuda.synchronize()\n",
    "    yield\n",
    "    torch.cuda.synchronize()\n",
    "    end = time.time()\n",
    "    elapsed_time = end - start\n",
    "    wall_times[key].append(elapsed_time)\n",
    "\n",
    "def register_hooks(model):\n",
    "    for idx, layer in enumerate(model.base_model.model.layers):\n",
    "        mlp_module = layer.mlp\n",
    "        layer_name = f\"layer_{idx+1}_mlp\"\n",
    "        mlp_module.register_forward_hook(capture_activation(layer_name))\n",
    "\n",
    "def medusa_forward(input_ids, model, tokenizer, medusa_choices, temperature, posterior_threshold, posterior_alpha, max_steps = 512):\n",
    "    wall_times = {'medusa': [], 'tree': [], 'posterior': [], 'update': [], 'init': []}\n",
    "    \n",
    "    with timed(wall_times, 'init'):\n",
    "        if hasattr(model, \"medusa_choices\") and model.medusa_choices == medusa_choices:\n",
    "            # Load the cached medusa buffer\n",
    "            medusa_buffers = model.medusa_buffers\n",
    "        else:\n",
    "            # Initialize the medusa buffer\n",
    "            medusa_buffers = generate_medusa_buffers(\n",
    "                medusa_choices, device=model.base_model.device\n",
    "            )\n",
    "        model.medusa_buffers = medusa_buffers\n",
    "        model.medusa_choices = medusa_choices\n",
    "\n",
    "        # Initialize the past key and value states\n",
    "        if hasattr(model, \"past_key_values\"):\n",
    "            past_key_values = model.past_key_values\n",
    "            past_key_values_data = model.past_key_values_data\n",
    "            current_length_data = model.current_length_data\n",
    "            # Reset the past key and value states\n",
    "            current_length_data.zero_()\n",
    "        else:\n",
    "            (\n",
    "                past_key_values,\n",
    "                past_key_values_data,\n",
    "                current_length_data,\n",
    "            ) = initialize_past_key_values(model.base_model)\n",
    "            model.past_key_values = past_key_values\n",
    "            model.past_key_values_data = past_key_values_data\n",
    "            model.current_length_data = current_length_data\n",
    "\n",
    "        input_len = input_ids.shape[1]\n",
    "        reset_medusa_mode(model)\n",
    "        medusa_logits, logits = initialize_medusa(\n",
    "                input_ids, model, medusa_buffers[\"medusa_attn_mask\"], past_key_values\n",
    "        )\n",
    "    new_token = 0\n",
    "\n",
    "    for idx in range(max_steps): \n",
    "        with timed(wall_times, 'medusa'):\n",
    "            candidates, tree_candidates = generate_candidates(\n",
    "                    medusa_logits,\n",
    "                    logits,\n",
    "                    medusa_buffers[\"tree_indices\"],\n",
    "                    medusa_buffers[\"retrieve_indices\"],\n",
    "                )\n",
    "\n",
    "        with timed(wall_times, 'tree'):\n",
    "            medusa_logits, logits, outputs = tree_decoding(\n",
    "                    model,\n",
    "                    tree_candidates,\n",
    "                    past_key_values,\n",
    "                    medusa_buffers[\"medusa_position_ids\"],\n",
    "                    input_ids,\n",
    "                    medusa_buffers[\"retrieve_indices\"],\n",
    "                )\n",
    "\n",
    "        with timed(wall_times, 'posterior'):\n",
    "            best_candidate, accept_length = evaluate_posterior(\n",
    "                    logits, candidates, temperature, posterior_threshold, posterior_alpha\n",
    "                )\n",
    "        \n",
    "        with timed(wall_times, 'update'):\n",
    "            input_ids, logits, medusa_logits, new_token = update_inference_inputs(\n",
    "                    input_ids,\n",
    "                    candidates,\n",
    "                    best_candidate,\n",
    "                    accept_length,\n",
    "                    medusa_buffers[\"retrieve_indices\"],\n",
    "                    outputs,\n",
    "                    logits,\n",
    "                    medusa_logits,\n",
    "                    new_token,\n",
    "                    past_key_values_data,\n",
    "                    current_length_data,\n",
    "                )\n",
    "\n",
    "        if tokenizer.eos_token_id in input_ids[0, input_len:].tolist():\n",
    "            break\n",
    "\n",
    "    return input_ids, new_token, idx, wall_times\n"
   ]
  },
  {
   "cell_type": "markdown",
   "metadata": {},
   "source": [
    "## Model Loading\n",
    "\n",
    "We load the model and tokenizer using the specified paths and configurations.\n"
   ]
  },
  {
   "cell_type": "code",
   "execution_count": 4,
   "metadata": {},
   "outputs": [
    {
     "name": "stderr",
     "output_type": "stream",
     "text": [
      "You are using a model of type llama to instantiate a model of type . This is not supported for all configurations of models and can yield errors.\n",
      "You are using the default legacy behaviour of the <class 'transformers.models.llama.tokenization_llama.LlamaTokenizer'>. This is expected, and simply means that the `legacy` (previous) behavior will be used so nothing changes for you. If you want to use the new behaviour, set `legacy=False`. This should only be set if you understand what it means, and thouroughly read the reason why this was added as explained in https://github.com/huggingface/transformers/pull/24565\n",
      "Loading checkpoint shards:   0%|                                                                                            | 0/2 [00:00<?, ?it/s]/workspace/laurel/opt/miniconda3-laurel/envs/medusa_fin/lib/python3.10/site-packages/transformers/modeling_utils.py:484: FutureWarning: You are using `torch.load` with `weights_only=False` (the current default value), which uses the default pickle module implicitly. It is possible to construct malicious pickle data which will execute arbitrary code during unpickling (See https://github.com/pytorch/pytorch/blob/main/SECURITY.md#untrusted-models for more details). In a future release, the default value for `weights_only` will be flipped to `True`. This limits the functions that could be executed during unpickling. Arbitrary objects will no longer be allowed to be loaded via this mode unless they are explicitly allowlisted by the user via `torch.serialization.add_safe_globals`. We recommend you start setting `weights_only=True` for any use case where you don't have full control of the loaded file. Please open an issue on GitHub for any issues related to this experimental feature.\n",
      "  return torch.load(checkpoint_file, map_location=map_location)\n",
      "Loading checkpoint shards: 100%|████████████████████████████████████████████████████████████████████████████████████| 2/2 [00:09<00:00,  4.85s/it]\n",
      "Some weights of MedusaModelLlama were not initialized from the model checkpoint at /workspace/laurel/models/vicuna-7b-v1.3 and are newly initialized: ['medusa_head.3.0.linear.weight', 'medusa_head.4.0.linear.weight', 'medusa_head.3.0.linear.bias', 'medusa_head.0.1.weight', 'medusa_head.2.1.weight', 'medusa_head.3.1.weight', 'medusa_head.1.0.linear.bias', 'medusa_head.1.1.weight', 'medusa_head.0.0.linear.bias', 'medusa_head.2.0.linear.bias', 'medusa_head.4.0.linear.bias', 'medusa_head.1.0.linear.weight', 'medusa_head.0.0.linear.weight', 'medusa_head.4.1.weight', 'medusa_head.2.0.linear.weight']\n",
      "You should probably TRAIN this model on a down-stream task to be able to use it for predictions and inference.\n",
      "/workspace/laurel/project/Medusa/src/medusa-llm/medusa/model/medusa_model.py:156: FutureWarning: You are using `torch.load` with `weights_only=False` (the current default value), which uses the default pickle module implicitly. It is possible to construct malicious pickle data which will execute arbitrary code during unpickling (See https://github.com/pytorch/pytorch/blob/main/SECURITY.md#untrusted-models for more details). In a future release, the default value for `weights_only` will be flipped to `True`. This limits the functions that could be executed during unpickling. Arbitrary objects will no longer be allowed to be loaded via this mode unless they are explicitly allowlisted by the user via `torch.serialization.add_safe_globals`. We recommend you start setting `weights_only=True` for any use case where you don't have full control of the loaded file. Please open an issue on GitHub for any issues related to this experimental feature.\n",
      "  medusa_head_state_dict = torch.load(filename, map_location=model.device)\n"
     ]
    }
   ],
   "source": [
    "model_name = '/workspace/laurel/models/medusa-vicuna-7b-v1.3'\n",
    "model = MedusaModel.from_pretrained(\n",
    "    model_name,\n",
    "    torch_dtype=torch.float16,\n",
    "    low_cpu_mem_usage=True,\n",
    "    device_map=\"cuda\"\n",
    ")\n",
    "tokenizer = model.get_tokenizer()\n",
    "\n",
    "medusa_choices = mc_sim_7b_63"
   ]
  },
  {
   "cell_type": "code",
   "execution_count": 5,
   "metadata": {},
   "outputs": [],
   "source": [
    "register_hooks(model)"
   ]
  },
  {
   "cell_type": "markdown",
   "metadata": {},
   "source": [
    "## Setting Inference Parameters\n",
    "\n",
    "Next, we set some parameters that will be used during the inference process.\n"
   ]
  },
  {
   "cell_type": "code",
   "execution_count": 6,
   "metadata": {},
   "outputs": [],
   "source": [
    "temperature = 0.\n",
    "posterior_threshold = 0.09\n",
    "posterior_alpha = 0.3"
   ]
  },
  {
   "cell_type": "markdown",
   "metadata": {},
   "source": [
    "## Setting The Prompt\n",
    "\n",
    "The following is the story prompt we will use for generating our story in the demo.\n"
   ]
  },
  {
   "cell_type": "code",
   "execution_count": 7,
   "metadata": {},
   "outputs": [],
   "source": [
    "path=\"/workspace/laurel/project/Medusa/layerwise/data/gsm8k/main/test-00000-of-00001.parquet\"\n",
    "df = pd.read_parquet(path)\n",
    "test = df[\"question\"].str.replace(\"\\n\", \" \")"
   ]
  },
  {
   "cell_type": "markdown",
   "metadata": {},
   "source": [
    "## Performing Inference\n",
    "\n",
    "Using the set parameters and the defined function, let's generate our story!\n"
   ]
  },
  {
   "cell_type": "code",
   "execution_count": 11,
   "metadata": {},
   "outputs": [
    {
     "name": "stdout",
     "output_type": "stream",
     "text": [
      "True\n",
      "NVIDIA RTX A5000\n",
      "True\n"
     ]
    }
   ],
   "source": [
    "!python -c \"import torch; print(torch.backends.cuda.is_built()); print(torch.cuda.get_device_name(0)); print(torch.cuda.is_available())\""
   ]
  },
  {
   "cell_type": "code",
   "execution_count": null,
   "metadata": {},
   "outputs": [],
   "source": [
    "all_cross_entropy_losses = []\n",
    "all_kl_div_losses = []\n",
    "\n",
    "for prompt in test:    \n",
    "    with torch.inference_mode():\n",
    "        input_ids = tokenizer([prompt]).input_ids\n",
    "        output_ids, new_token, idx, wall_time = medusa_forward(\n",
    "                        torch.as_tensor(input_ids).cuda(),\n",
    "                        model,\n",
    "                        tokenizer,\n",
    "                        medusa_choices,\n",
    "                        temperature,\n",
    "                        posterior_threshold,\n",
    "                        posterior_alpha,\n",
    "                    )\n",
    "        output_ids = output_ids[0][len(input_ids[0]) :]\n",
    "        # print(\"Output length:\", output_ids.size(-1))\n",
    "        # print(\"Compression ratio:\", new_token / idx)\n",
    "\n",
    "        output_text = tokenizer.decode(output_ids, skip_special_tokens=True)\n",
    "        \n",
    "        cross_entropy_losses = []\n",
    "        kl_div_losses = []\n",
    "        for i in range(1, 33):\n",
    "            cross_entropy_loss = []\n",
    "            kl_div_loss = []\n",
    "            for j in range(1, 33):\n",
    "                layer1_name = f'layer_{i}_mlp'\n",
    "                layer2_name = f'layer_{j}_mlp'\n",
    "\n",
    "                # Extract logits from consecutive layers\n",
    "                layer1_logits = activations[layer1_name][0]\n",
    "                layer2_logits = activations[layer2_name][0]\n",
    "\n",
    "                # Cross-Entropy\n",
    "                layer2_targets = layer2_logits.argmax(dim=-1)\n",
    "                ce_loss = F.cross_entropy(layer1_logits, layer2_targets, reduction='mean')\n",
    "                \n",
    "                # KL Divergence\n",
    "                layer1_probs = F.log_softmax(layer1_logits, dim=-1)\n",
    "                layer2_probs = F.log_softmax(layer2_logits, dim=-1)\n",
    "                kl_loss = F.kl_div(layer1_probs.log(), layer2_probs, reduction='batchmean', log_target=True)\n",
    "                # if torch.isnan(kl_div_loss) or torch.isinf(kl_div_loss):\n",
    "                #     print(f\"Layer {i} logits: Min: {layer1_logits.min()}, Max: {layer1_logits.max()}, Mean: {layer1_logits.mean()}\")\n",
    "                #     print(f\"Layer {i+1} logits: Min: {layer2_logits.min()}, Max: {layer2_logits.max()}, Mean: {layer2_logits.mean()}\")\n",
    "\n",
    "                cross_entropy_loss.append(ce_loss.item())\n",
    "                kl_div_loss.append(kl_loss.item())\n",
    "        \n",
    "            cross_entropy_losses.append(cross_entropy_loss)\n",
    "            kl_div_losses.append(kl_div_loss)\n",
    "\n",
    "        all_cross_entropy_losses.append(cross_entropy_losses)\n",
    "        all_kl_div_losses.append(kl_div_losses)"
   ]
  },
  {
   "cell_type": "code",
   "execution_count": null,
   "metadata": {},
   "outputs": [],
   "source": [
    "all_cross_entropy_losses = np.array(all_cross_entropy_losses)\n",
    "all_kl_div_losses = np.array(all_kl_div_losses)\n",
    "mean_cross_entropy_loss = np.mean(all_cross_entropy_losses, axis=0)\n",
    "mean_kl_div_loss = np.mean(all_kl_div_losses, axis=0)"
   ]
  },
  {
   "cell_type": "code",
   "execution_count": null,
   "metadata": {},
   "outputs": [],
   "source": [
    "import matplotlib.pyplot as plt\n",
    "\n",
    "# Cross-Entropy Loss\n",
    "plt.imshow(mean_cross_entropy_loss, cmap='viridis', interpolation='none')\n",
    "plt.xlabel('Layer i')\n",
    "plt.ylabel('Layer i')\n",
    "plt.title('avg Cross-Entropy Loss between Layers')\n",
    "plt.show()\n",
    "\n",
    "# KL Divergence Loss\n",
    "plt.imshow(mean_kl_div_loss, cmap='viridis', interpolation='none')\n",
    "plt.xlabel('Layer i')\n",
    "plt.ylabel('Layer j')\n",
    "plt.title('avg KL Divergence Loss between Layers')\n",
    "plt.show()"
   ]
  },
  {
   "cell_type": "code",
   "execution_count": null,
   "metadata": {},
   "outputs": [],
   "source": []
  }
 ],
 "metadata": {
  "kernelspec": {
   "display_name": "Python 3 (ipykernel)",
   "language": "python",
   "name": "python3"
  },
  "language_info": {
   "codemirror_mode": {
    "name": "ipython",
    "version": 3
   },
   "file_extension": ".py",
   "mimetype": "text/x-python",
   "name": "python",
   "nbconvert_exporter": "python",
   "pygments_lexer": "ipython3",
   "version": "3.1.0"
  }
 },
 "nbformat": 4,
 "nbformat_minor": 4
}
